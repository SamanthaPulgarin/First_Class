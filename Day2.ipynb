{
 "cells": [
  {
   "cell_type": "markdown",
   "id": "8ea64385-720f-48e2-9c08-cbd5ea1b1d62",
   "metadata": {},
   "source": [
    "CLASS 25 FEB - LISTS, TUPLES, DICTIONARIES, SETS"
   ]
  },
  {
   "cell_type": "code",
   "execution_count": 1,
   "id": "ddda821e-c01b-4686-9256-dae8678598f7",
   "metadata": {},
   "outputs": [
    {
     "data": {
      "text/plain": [
       "1"
      ]
     },
     "execution_count": 1,
     "metadata": {},
     "output_type": "execute_result"
    }
   ],
   "source": [
    "#LISTS \n",
    "#Ordered, mutable collection of elements\n",
    "my_list=[1, 'Python', 3.14]\n",
    "my_list[1]\n",
    "my_list[0] #retrives the first object of the list\n",
    "#Can be changed after it creations with the following commands\n",
    "#append() -adds and element at the end\n",
    "#remove() -removes specified element\n",
    "#pop() -removes element at given index"
   ]
  },
  {
   "cell_type": "code",
   "execution_count": 8,
   "id": "d7090854-f2bb-46bf-9006-b756725bb5e4",
   "metadata": {},
   "outputs": [
    {
     "data": {
      "text/plain": [
       "3.14"
      ]
     },
     "execution_count": 8,
     "metadata": {},
     "output_type": "execute_result"
    }
   ],
   "source": [
    "#TUPLES\n",
    "#Ordered, unmutable collection of elements\n",
    "my_tuple=(1, 'Python', 3.14)\n",
    "my_tuple[2]\n",
    "#Cannot be changed after creation - good for fixed data"
   ]
  },
  {
   "cell_type": "code",
   "execution_count": 10,
   "id": "a559dd5c-e34b-4f09-b8ce-109c6d8edeb0",
   "metadata": {},
   "outputs": [
    {
     "data": {
      "text/plain": [
       "'Samantha'"
      ]
     },
     "execution_count": 10,
     "metadata": {},
     "output_type": "execute_result"
    }
   ],
   "source": [
    "#Dictionaries\n",
    "#Unordered, mutable collection of key values pairs\n",
    "#It can be seen as a table - sequence of keys with its values - name: Samanthta, last_name:Pulgarin\n",
    "my_dict={'Name':'Samantha', 'Last_name':'Pulgarin'}\n",
    "my_dict['Name']"
   ]
  },
  {
   "cell_type": "code",
   "execution_count": null,
   "id": "c7e63f23-0046-4237-84b0-fd7be50a9992",
   "metadata": {},
   "outputs": [],
   "source": [
    "#Sets\n",
    "#Unordered, mutable collection of unique elements\n",
    "my_set=(1,2,3)\n",
    "my_set[2]\n",
    "#add() to add elements to the set"
   ]
  },
  {
   "cell_type": "code",
   "execution_count": 2,
   "id": "b6701f39-0d91-4326-bc96-a1b1ba49188b",
   "metadata": {},
   "outputs": [
    {
     "name": "stdout",
     "output_type": "stream",
     "text": [
      "[1, 'Python', 3.14]\n"
     ]
    }
   ],
   "source": [
    "print(my_list)"
   ]
  },
  {
   "cell_type": "code",
   "execution_count": 3,
   "id": "ff2bef55-bc40-4a20-83ff-aff8b48eb422",
   "metadata": {},
   "outputs": [
    {
     "data": {
      "text/plain": [
       "[1, 'Python', 3.14, 'Hello']"
      ]
     },
     "execution_count": 3,
     "metadata": {},
     "output_type": "execute_result"
    }
   ],
   "source": [
    "my_list.append('Hello')\n",
    "my_list"
   ]
  },
  {
   "cell_type": "code",
   "execution_count": 4,
   "id": "382ab5ec-9e22-4eb3-8896-1339b151d023",
   "metadata": {},
   "outputs": [
    {
     "data": {
      "text/plain": [
       "[1, 'Python', 3.14]"
      ]
     },
     "execution_count": 4,
     "metadata": {},
     "output_type": "execute_result"
    }
   ],
   "source": [
    "my_list.remove('Hello')\n",
    "my_list"
   ]
  },
  {
   "cell_type": "code",
   "execution_count": 7,
   "id": "e491510b-4e7e-43d6-9a96-8971e27793cf",
   "metadata": {},
   "outputs": [
    {
     "data": {
      "text/plain": [
       "[1, 3.14]"
      ]
     },
     "execution_count": 7,
     "metadata": {},
     "output_type": "execute_result"
    }
   ],
   "source": [
    "my_list.pop(1)\n",
    "my_list"
   ]
  },
  {
   "cell_type": "code",
   "execution_count": 9,
   "id": "bfd85895-5545-4e99-a0b5-148b19d43949",
   "metadata": {},
   "outputs": [
    {
     "data": {
      "text/plain": [
       "[1, 'Samantha']"
      ]
     },
     "execution_count": 9,
     "metadata": {},
     "output_type": "execute_result"
    }
   ],
   "source": [
    "my_list[1]='Samantha'\n",
    "my_list"
   ]
  },
  {
   "cell_type": "code",
   "execution_count": 15,
   "id": "041bc1fd-e016-4035-9704-606f98f88f80",
   "metadata": {},
   "outputs": [
    {
     "data": {
      "text/plain": [
       "{'Name': 'Samantha', 'Last_name': 'Pulgarin', 'Age': 27}"
      ]
     },
     "execution_count": 15,
     "metadata": {},
     "output_type": "execute_result"
    }
   ],
   "source": [
    "my_dict[\"Age\"]=27\n",
    "my_dict"
   ]
  },
  {
   "cell_type": "code",
   "execution_count": 4,
   "id": "b8998410-ff6a-4bc9-bd2f-6709415a33bc",
   "metadata": {},
   "outputs": [
    {
     "name": "stdin",
     "output_type": "stream",
     "text": [
      "Please enter an even number: 25\n"
     ]
    },
    {
     "name": "stdout",
     "output_type": "stream",
     "text": [
      "That is not an even number. Please try again.\n"
     ]
    }
   ],
   "source": [
    "user_input=int(input(\"Please enter an even number:\"))\n",
    "while user_input %2==0:\n",
    "    print(f\"Thank you, {user_input} is even\")\n",
    "    break\n",
    "else:\n",
    "    print (\"That is not an even number. Please try again.\")"
   ]
  },
  {
   "cell_type": "code",
   "execution_count": 6,
   "id": "c534b913-ff71-479f-a03b-f66c6ee73b27",
   "metadata": {},
   "outputs": [
    {
     "name": "stdin",
     "output_type": "stream",
     "text": [
      "Please enter an even number:  20\n"
     ]
    },
    {
     "name": "stdout",
     "output_type": "stream",
     "text": [
      "Thank you! 20 is an even number.\n"
     ]
    }
   ],
   "source": [
    "\n",
    "while True:\n",
    "    user_input = input(\"Please enter an even number: \")\n",
    "    \n",
    "    # Check if the input is a valid integer and if it's even\n",
    "    try:\n",
    "        number = int(user_input)\n",
    "        if number % 2 == 0:\n",
    "            print(f\"Thank you! {number} is an even number.\")\n",
    "            break  # Exit the loop if the number is even\n",
    "        else:\n",
    "            print(\"That's not an even number. Please try again.\")\n",
    "    except ValueError:\n",
    "        print(\"That's not a valid number. Please enter a valid integer.\")\n"
   ]
  },
  {
   "cell_type": "code",
   "execution_count": 7,
   "id": "4f652e6d-7dd0-4660-81b2-082ac4ef0a0b",
   "metadata": {},
   "outputs": [
    {
     "name": "stdin",
     "output_type": "stream",
     "text": [
      "Enter something (or 'quit' to stop):  life\n"
     ]
    },
    {
     "name": "stdout",
     "output_type": "stream",
     "text": [
      "You entered: life\n"
     ]
    },
    {
     "name": "stdin",
     "output_type": "stream",
     "text": [
      "Enter something (or 'quit' to stop):  quit\n"
     ]
    }
   ],
   "source": [
    "while True:\n",
    "    s= input(\"Enter something (or 'quit' to stop): \")\n",
    "    if s== 'quit':\n",
    "        break\n",
    "    print(f\"You entered: {s}\")"
   ]
  },
  {
   "cell_type": "code",
   "execution_count": 8,
   "id": "45eb5e05-6ff2-46a2-826d-cbcf54873c50",
   "metadata": {},
   "outputs": [
    {
     "name": "stdin",
     "output_type": "stream",
     "text": [
      "Enter the grade: 20\n"
     ]
    },
    {
     "name": "stdout",
     "output_type": "stream",
     "text": [
      "Your evaluation is F\n"
     ]
    }
   ],
   "source": [
    "grade=int(input(\"Enter the grade:\"))\n",
    "if grade<60:\n",
    "    score= \"F\"\n",
    "elif grade<69:\n",
    "    score= \"D\"\n",
    "elif grade<79:\n",
    "    score= \"C\"\n",
    "elif grade<89:\n",
    "    score= \"B\"\n",
    "else:\n",
    "    score= \"A\"\n",
    "print(f\"Your evaluation is {score}\")"
   ]
  },
  {
   "cell_type": "code",
   "execution_count": null,
   "id": "e46fb14c-2c45-492a-ab6f-b84512941a3f",
   "metadata": {},
   "outputs": [],
   "source": []
  }
 ],
 "metadata": {
  "kernelspec": {
   "display_name": "masterds",
   "language": "python",
   "name": "masterds"
  },
  "language_info": {
   "codemirror_mode": {
    "name": "ipython",
    "version": 3
   },
   "file_extension": ".py",
   "mimetype": "text/x-python",
   "name": "python",
   "nbconvert_exporter": "python",
   "pygments_lexer": "ipython3",
   "version": "3.11.11"
  }
 },
 "nbformat": 4,
 "nbformat_minor": 5
}
