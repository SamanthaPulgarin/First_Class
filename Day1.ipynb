{
 "cells": [
  {
   "cell_type": "code",
   "execution_count": 7,
   "id": "0529b0d3-d5cd-450a-861f-8b6d56f776dd",
   "metadata": {},
   "outputs": [
    {
     "name": "stdout",
     "output_type": "stream",
     "text": [
      "True\n"
     ]
    }
   ],
   "source": [
    "if 10 > 5:\n",
    "    print(\"True\")"
   ]
  },
  {
   "cell_type": "code",
   "execution_count": 8,
   "id": "f49bf64a-616b-401a-8e9c-9afb784550bd",
   "metadata": {},
   "outputs": [],
   "source": [
    "def sum(a,b):\n",
    "    result=a+b\n",
    "    return result"
   ]
  },
  {
   "cell_type": "code",
   "execution_count": 9,
   "id": "3b942239-ffad-41ad-a046-1a2c984695de",
   "metadata": {},
   "outputs": [
    {
     "data": {
      "text/plain": [
       "13"
      ]
     },
     "execution_count": 9,
     "metadata": {},
     "output_type": "execute_result"
    }
   ],
   "source": [
    "sum(9,4)"
   ]
  },
  {
   "cell_type": "code",
   "execution_count": 10,
   "id": "27bbca33-7bc6-4013-a89e-b2ce38a0a2f1",
   "metadata": {},
   "outputs": [
    {
     "name": "stdout",
     "output_type": "stream",
     "text": [
      "Ten is greater than five!\n"
     ]
    }
   ],
   "source": [
    "if 10>5:\n",
    "    print(\"Ten is greater than five!\")"
   ]
  },
  {
   "cell_type": "code",
   "execution_count": 13,
   "id": "76778d44-b04c-4d08-bd45-61b644a553dd",
   "metadata": {},
   "outputs": [],
   "source": [
    "def nn(a,b,c):\n",
    "    result=a+b-c\n",
    "    return result"
   ]
  },
  {
   "cell_type": "code",
   "execution_count": 14,
   "id": "bbc5b8a5-cfc3-47e1-b8f8-caa7832a9822",
   "metadata": {},
   "outputs": [
    {
     "data": {
      "text/plain": [
       "8"
      ]
     },
     "execution_count": 14,
     "metadata": {},
     "output_type": "execute_result"
    }
   ],
   "source": [
    "nn(5,5,2)"
   ]
  },
  {
   "cell_type": "code",
   "execution_count": 15,
   "id": "4da7fc52-f761-414d-b0e0-1ab25de6fe91",
   "metadata": {},
   "outputs": [],
   "source": [
    "age=30"
   ]
  },
  {
   "cell_type": "code",
   "execution_count": 16,
   "id": "d4a45fa9-1475-46e3-a228-c84b32153113",
   "metadata": {},
   "outputs": [
    {
     "data": {
      "text/plain": [
       "30"
      ]
     },
     "execution_count": 16,
     "metadata": {},
     "output_type": "execute_result"
    }
   ],
   "source": [
    "age"
   ]
  },
  {
   "cell_type": "code",
   "execution_count": 17,
   "id": "eb1a976c-db14-4a6d-9539-0ee934756800",
   "metadata": {},
   "outputs": [
    {
     "data": {
      "text/plain": [
       "int"
      ]
     },
     "execution_count": 17,
     "metadata": {},
     "output_type": "execute_result"
    }
   ],
   "source": [
    "type(age)"
   ]
  },
  {
   "cell_type": "code",
   "execution_count": 18,
   "id": "eb7c9bb2-5b2b-40f8-a390-3cfeca9516e7",
   "metadata": {},
   "outputs": [],
   "source": [
    "f=3.14"
   ]
  },
  {
   "cell_type": "code",
   "execution_count": 19,
   "id": "cc389d2c-5c45-492d-87a5-10dd36977339",
   "metadata": {},
   "outputs": [
    {
     "data": {
      "text/plain": [
       "3.14"
      ]
     },
     "execution_count": 19,
     "metadata": {},
     "output_type": "execute_result"
    }
   ],
   "source": [
    "f"
   ]
  },
  {
   "cell_type": "code",
   "execution_count": 20,
   "id": "b23be851-09a5-45e9-b03d-457f19fc9c11",
   "metadata": {},
   "outputs": [
    {
     "data": {
      "text/plain": [
       "3"
      ]
     },
     "execution_count": 20,
     "metadata": {},
     "output_type": "execute_result"
    }
   ],
   "source": [
    "int(f)"
   ]
  },
  {
   "cell_type": "code",
   "execution_count": 21,
   "id": "bdb2339a-a90f-497f-97ec-14b3263e82a9",
   "metadata": {},
   "outputs": [],
   "source": [
    "f=3"
   ]
  },
  {
   "cell_type": "code",
   "execution_count": 22,
   "id": "1857bb58-47ec-4213-809d-c846aeb7deb3",
   "metadata": {},
   "outputs": [
    {
     "data": {
      "text/plain": [
       "3"
      ]
     },
     "execution_count": 22,
     "metadata": {},
     "output_type": "execute_result"
    }
   ],
   "source": [
    "f"
   ]
  },
  {
   "cell_type": "code",
   "execution_count": 23,
   "id": "e3db041c-bd36-45b0-8cca-88998110bb3c",
   "metadata": {},
   "outputs": [
    {
     "data": {
      "text/plain": [
       "int"
      ]
     },
     "execution_count": 23,
     "metadata": {},
     "output_type": "execute_result"
    }
   ],
   "source": [
    "type(f)"
   ]
  },
  {
   "cell_type": "code",
   "execution_count": 24,
   "id": "ad4a7503-10d3-4f8c-9234-8825a246007e",
   "metadata": {},
   "outputs": [
    {
     "data": {
      "text/plain": [
       "3.0"
      ]
     },
     "execution_count": 24,
     "metadata": {},
     "output_type": "execute_result"
    }
   ],
   "source": [
    "float(f)"
   ]
  },
  {
   "cell_type": "code",
   "execution_count": 25,
   "id": "995201c7-b4f5-4988-b471-54535a3bb078",
   "metadata": {},
   "outputs": [],
   "source": [
    "max_distance=int()\n",
    "temperature=float()\n",
    "greeting=string()\n"
   ]
  },
  {
   "cell_type": "code",
   "execution_count": 26,
   "id": "bfd21368-cbc3-4945-9a72-ea8f252966cc",
   "metadata": {},
   "outputs": [
    {
     "data": {
      "text/plain": [
       "int"
      ]
     },
     "execution_count": 26,
     "metadata": {},
     "output_type": "execute_result"
    }
   ],
   "source": [
    "type(max_distance)"
   ]
  },
  {
   "cell_type": "code",
   "execution_count": 40,
   "id": "7a305db9-6aad-4106-ac72-c75760fcf8bf",
   "metadata": {},
   "outputs": [
    {
     "name": "stdin",
     "output_type": "stream",
     "text": [
      "Enter x: 10\n",
      "Enter y: 20\n"
     ]
    },
    {
     "name": "stdout",
     "output_type": "stream",
     "text": [
      "The sum is 30\n"
     ]
    }
   ],
   "source": [
    "x=input(\"Enter x:\")\n",
    "y=input(\"Enter y:\")\n",
    "print (\"The sum is \" + str(int(x)+int(y)))"
   ]
  },
  {
   "cell_type": "code",
   "execution_count": 44,
   "id": "b3ccde62-cf98-4498-8d21-b78b0e376afe",
   "metadata": {},
   "outputs": [
    {
     "data": {
      "text/plain": [
       "'e in Milan'"
      ]
     },
     "execution_count": 44,
     "metadata": {},
     "output_type": "execute_result"
    }
   ],
   "source": [
    "s=\"Today we have a strike in Milan\"\n",
    "s[3:10] #just the characters form 3 to 10 in the variable\n",
    "s[:10] #the first 10 char\n",
    "s[10:] #the char starting in char #10\n",
    "s[:-10] #the whole variable minus the 10 last char\n",
    "s[-10:] #the 10 las char"
   ]
  },
  {
   "cell_type": "code",
   "execution_count": 46,
   "id": "a6a7fe5e-8cf4-4661-90a7-08ad6dbda756",
   "metadata": {},
   "outputs": [
    {
     "name": "stdout",
     "output_type": "stream",
     "text": [
      "the sum of 10\n"
     ]
    }
   ],
   "source": [
    "a=10\n",
    "print(\"the sum of {}\".format(a))"
   ]
  },
  {
   "cell_type": "code",
   "execution_count": 48,
   "id": "f91f4ffc-3ce7-4e3f-8682-47dd65052f02",
   "metadata": {},
   "outputs": [
    {
     "name": "stdout",
     "output_type": "stream",
     "text": [
      "the sum of 10 and 5 is 15\n"
     ]
    }
   ],
   "source": [
    "b=5\n",
    "print(f\"the sum of {a} and {b} is {a+b}\") #Adding the f at the beginning."
   ]
  },
  {
   "cell_type": "code",
   "execution_count": null,
   "id": "af18a487-d2b6-4f87-84de-5c7dc0e3760b",
   "metadata": {},
   "outputs": [],
   "source": []
  }
 ],
 "metadata": {
  "kernelspec": {
   "display_name": "masterds",
   "language": "python",
   "name": "masterds"
  },
  "language_info": {
   "codemirror_mode": {
    "name": "ipython",
    "version": 3
   },
   "file_extension": ".py",
   "mimetype": "text/x-python",
   "name": "python",
   "nbconvert_exporter": "python",
   "pygments_lexer": "ipython3",
   "version": "3.11.11"
  }
 },
 "nbformat": 4,
 "nbformat_minor": 5
}
